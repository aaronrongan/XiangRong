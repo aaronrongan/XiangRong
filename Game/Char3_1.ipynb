{
 "cells": [
  {
   "cell_type": "code",
   "execution_count": 26,
   "outputs": [
    {
     "data": {
      "text/plain": "'hello'"
     },
     "metadata": {},
     "output_type": "execute_result",
     "execution_count": 26
    }
   ],
   "source": [
    "sdfjkhlk='hello'\n",
    "\n",
    "sdfjkhlk\n"
   ],
   "metadata": {
    "collapsed": false,
    "pycharm": {
     "name": "#%%\n",
     "is_executing": false
    }
   }
  },
  {
   "cell_type": "code",
   "execution_count": 27,
   "outputs": [
    {
     "data": {
      "text/plain": "'mycraft'"
     },
     "metadata": {},
     "output_type": "execute_result",
     "execution_count": 27
    }
   ],
   "source": [
    "s1=\"hello\"\n",
    "s2=\"world\"\n",
    "s=s1+s2\n",
    "s\n",
    "\n",
    "\n",
    "a='my'\n",
    "b='craft'\n",
    "c=a+b\n",
    "c"
   ],
   "metadata": {
    "collapsed": false,
    "pycharm": {
     "name": "#%%\n",
     "is_executing": false
    }
   }
  },
  {
   "cell_type": "code",
   "execution_count": 28,
   "outputs": [
    {
     "name": "stdout",
     "text": [
      "和是 22\n差是 1767\n乘积是 105\n商是 7.0\n"
     ],
     "output_type": "stream"
    }
   ],
   "source": [
    "#这是一个例子,定义加减乘除四则运算\n",
    "\n",
    "def add(a,b):\n",
    "    return a+b\n",
    "\n",
    "def minus(a,b):\n",
    "    return a-b\n",
    "\n",
    "def product(a,b):\n",
    "    return a*b\n",
    "\n",
    "def divide(a,b):\n",
    "    return a/b\n",
    "\n",
    "X1=add(10,12)\n",
    "print('和是', X1)\n",
    "\n",
    "X2=minus(1999,232)\n",
    "print('差是',X2)\n",
    "\n",
    "X3=product(21,5)\n",
    "print('乘积是',X3)\n",
    "\n",
    "X4=divide(21,3)\n",
    "print('商是',X4)"
   ],
   "metadata": {
    "collapsed": false,
    "pycharm": {
     "name": "#%%\n",
     "is_executing": false
    }
   }
  }
 ],
 "metadata": {
  "language_info": {
   "codemirror_mode": {
    "name": "ipython",
    "version": 2
   },
   "file_extension": ".py",
   "mimetype": "text/x-python",
   "name": "python",
   "nbconvert_exporter": "python",
   "pygments_lexer": "ipython2",
   "version": "2.7.6"
  },
  "kernelspec": {
   "name": "python3",
   "language": "python",
   "display_name": "Python 3"
  },
  "pycharm": {
   "stem_cell": {
    "cell_type": "raw",
    "source": [],
    "metadata": {
     "collapsed": false
    }
   }
  }
 },
 "nbformat": 4,
 "nbformat_minor": 0
}